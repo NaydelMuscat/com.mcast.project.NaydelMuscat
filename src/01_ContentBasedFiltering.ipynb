{
 "cells": [
  {
   "cell_type": "code",
   "execution_count": 1,
   "id": "5b64bc1b",
   "metadata": {},
   "outputs": [],
   "source": [
    "import os\n",
    "import numpy as np\n",
    "import pandas as pd\n",
    "import seaborn as sns\n",
    "import matplotlib.pyplot as plt\n",
    "sns.set_style('white', { 'axes.spines.right': False, 'axes.spines.top': False})\n",
    "from sklearn.feature_extraction.text import CountVectorizer, TfidfVectorizer\n",
    "from sklearn.metrics.pairwise import cosine_similarity\n",
    "from sklearn.decomposition import TruncatedSVD\n",
    "from nltk.corpus import stopwords"
   ]
  },
  {
   "cell_type": "code",
   "execution_count": 2,
   "id": "7ec3b2a7",
   "metadata": {},
   "outputs": [
    {
     "ename": "FileNotFoundError",
     "evalue": "[Errno 2] No such file or directory: '..\\\\datamovies_metadata.csv'",
     "output_type": "error",
     "traceback": [
      "\u001b[1;31m---------------------------------------------------------------------------\u001b[0m",
      "\u001b[1;31mFileNotFoundError\u001b[0m                         Traceback (most recent call last)",
      "Cell \u001b[1;32mIn[2], line 3\u001b[0m\n\u001b[0;32m      1\u001b[0m path \u001b[39m=\u001b[39m os\u001b[39m.\u001b[39mpath\u001b[39m.\u001b[39mjoin(\u001b[39m\"\u001b[39m\u001b[39m..\u001b[39m\u001b[39m\"\u001b[39m, \u001b[39m\"\u001b[39m\u001b[39mdata\u001b[39m\u001b[39m\"\u001b[39m)\n\u001b[1;32m----> 3\u001b[0m df_meta \u001b[39m=\u001b[39m pd\u001b[39m.\u001b[39;49mread_csv(path \u001b[39m+\u001b[39;49m \u001b[39m'\u001b[39;49m\u001b[39mmovies_metadata.csv\u001b[39;49m\u001b[39m'\u001b[39;49m, low_memory\u001b[39m=\u001b[39;49m\u001b[39mFalse\u001b[39;49;00m, encoding\u001b[39m=\u001b[39;49m\u001b[39m'\u001b[39;49m\u001b[39mUTF-8\u001b[39;49m\u001b[39m'\u001b[39;49m)\n\u001b[0;32m      5\u001b[0m \u001b[39m# display the first five rows of the DataFrame\u001b[39;00m\n\u001b[0;32m      6\u001b[0m df_meta\u001b[39m.\u001b[39mhead()\n",
      "File \u001b[1;32mc:\\Users\\User\\anaconda3\\envs\\MovieRec\\lib\\site-packages\\pandas\\util\\_decorators.py:211\u001b[0m, in \u001b[0;36mdeprecate_kwarg.<locals>._deprecate_kwarg.<locals>.wrapper\u001b[1;34m(*args, **kwargs)\u001b[0m\n\u001b[0;32m    209\u001b[0m     \u001b[39melse\u001b[39;00m:\n\u001b[0;32m    210\u001b[0m         kwargs[new_arg_name] \u001b[39m=\u001b[39m new_arg_value\n\u001b[1;32m--> 211\u001b[0m \u001b[39mreturn\u001b[39;00m func(\u001b[39m*\u001b[39margs, \u001b[39m*\u001b[39m\u001b[39m*\u001b[39mkwargs)\n",
      "File \u001b[1;32mc:\\Users\\User\\anaconda3\\envs\\MovieRec\\lib\\site-packages\\pandas\\util\\_decorators.py:331\u001b[0m, in \u001b[0;36mdeprecate_nonkeyword_arguments.<locals>.decorate.<locals>.wrapper\u001b[1;34m(*args, **kwargs)\u001b[0m\n\u001b[0;32m    325\u001b[0m \u001b[39mif\u001b[39;00m \u001b[39mlen\u001b[39m(args) \u001b[39m>\u001b[39m num_allow_args:\n\u001b[0;32m    326\u001b[0m     warnings\u001b[39m.\u001b[39mwarn(\n\u001b[0;32m    327\u001b[0m         msg\u001b[39m.\u001b[39mformat(arguments\u001b[39m=\u001b[39m_format_argument_list(allow_args)),\n\u001b[0;32m    328\u001b[0m         \u001b[39mFutureWarning\u001b[39;00m,\n\u001b[0;32m    329\u001b[0m         stacklevel\u001b[39m=\u001b[39mfind_stack_level(),\n\u001b[0;32m    330\u001b[0m     )\n\u001b[1;32m--> 331\u001b[0m \u001b[39mreturn\u001b[39;00m func(\u001b[39m*\u001b[39margs, \u001b[39m*\u001b[39m\u001b[39m*\u001b[39mkwargs)\n",
      "File \u001b[1;32mc:\\Users\\User\\anaconda3\\envs\\MovieRec\\lib\\site-packages\\pandas\\io\\parsers\\readers.py:950\u001b[0m, in \u001b[0;36mread_csv\u001b[1;34m(filepath_or_buffer, sep, delimiter, header, names, index_col, usecols, squeeze, prefix, mangle_dupe_cols, dtype, engine, converters, true_values, false_values, skipinitialspace, skiprows, skipfooter, nrows, na_values, keep_default_na, na_filter, verbose, skip_blank_lines, parse_dates, infer_datetime_format, keep_date_col, date_parser, dayfirst, cache_dates, iterator, chunksize, compression, thousands, decimal, lineterminator, quotechar, quoting, doublequote, escapechar, comment, encoding, encoding_errors, dialect, error_bad_lines, warn_bad_lines, on_bad_lines, delim_whitespace, low_memory, memory_map, float_precision, storage_options)\u001b[0m\n\u001b[0;32m    935\u001b[0m kwds_defaults \u001b[39m=\u001b[39m _refine_defaults_read(\n\u001b[0;32m    936\u001b[0m     dialect,\n\u001b[0;32m    937\u001b[0m     delimiter,\n\u001b[1;32m   (...)\u001b[0m\n\u001b[0;32m    946\u001b[0m     defaults\u001b[39m=\u001b[39m{\u001b[39m\"\u001b[39m\u001b[39mdelimiter\u001b[39m\u001b[39m\"\u001b[39m: \u001b[39m\"\u001b[39m\u001b[39m,\u001b[39m\u001b[39m\"\u001b[39m},\n\u001b[0;32m    947\u001b[0m )\n\u001b[0;32m    948\u001b[0m kwds\u001b[39m.\u001b[39mupdate(kwds_defaults)\n\u001b[1;32m--> 950\u001b[0m \u001b[39mreturn\u001b[39;00m _read(filepath_or_buffer, kwds)\n",
      "File \u001b[1;32mc:\\Users\\User\\anaconda3\\envs\\MovieRec\\lib\\site-packages\\pandas\\io\\parsers\\readers.py:605\u001b[0m, in \u001b[0;36m_read\u001b[1;34m(filepath_or_buffer, kwds)\u001b[0m\n\u001b[0;32m    602\u001b[0m _validate_names(kwds\u001b[39m.\u001b[39mget(\u001b[39m\"\u001b[39m\u001b[39mnames\u001b[39m\u001b[39m\"\u001b[39m, \u001b[39mNone\u001b[39;00m))\n\u001b[0;32m    604\u001b[0m \u001b[39m# Create the parser.\u001b[39;00m\n\u001b[1;32m--> 605\u001b[0m parser \u001b[39m=\u001b[39m TextFileReader(filepath_or_buffer, \u001b[39m*\u001b[39m\u001b[39m*\u001b[39mkwds)\n\u001b[0;32m    607\u001b[0m \u001b[39mif\u001b[39;00m chunksize \u001b[39mor\u001b[39;00m iterator:\n\u001b[0;32m    608\u001b[0m     \u001b[39mreturn\u001b[39;00m parser\n",
      "File \u001b[1;32mc:\\Users\\User\\anaconda3\\envs\\MovieRec\\lib\\site-packages\\pandas\\io\\parsers\\readers.py:1442\u001b[0m, in \u001b[0;36mTextFileReader.__init__\u001b[1;34m(self, f, engine, **kwds)\u001b[0m\n\u001b[0;32m   1439\u001b[0m     \u001b[39mself\u001b[39m\u001b[39m.\u001b[39moptions[\u001b[39m\"\u001b[39m\u001b[39mhas_index_names\u001b[39m\u001b[39m\"\u001b[39m] \u001b[39m=\u001b[39m kwds[\u001b[39m\"\u001b[39m\u001b[39mhas_index_names\u001b[39m\u001b[39m\"\u001b[39m]\n\u001b[0;32m   1441\u001b[0m \u001b[39mself\u001b[39m\u001b[39m.\u001b[39mhandles: IOHandles \u001b[39m|\u001b[39m \u001b[39mNone\u001b[39;00m \u001b[39m=\u001b[39m \u001b[39mNone\u001b[39;00m\n\u001b[1;32m-> 1442\u001b[0m \u001b[39mself\u001b[39m\u001b[39m.\u001b[39m_engine \u001b[39m=\u001b[39m \u001b[39mself\u001b[39;49m\u001b[39m.\u001b[39;49m_make_engine(f, \u001b[39mself\u001b[39;49m\u001b[39m.\u001b[39;49mengine)\n",
      "File \u001b[1;32mc:\\Users\\User\\anaconda3\\envs\\MovieRec\\lib\\site-packages\\pandas\\io\\parsers\\readers.py:1735\u001b[0m, in \u001b[0;36mTextFileReader._make_engine\u001b[1;34m(self, f, engine)\u001b[0m\n\u001b[0;32m   1733\u001b[0m     \u001b[39mif\u001b[39;00m \u001b[39m\"\u001b[39m\u001b[39mb\u001b[39m\u001b[39m\"\u001b[39m \u001b[39mnot\u001b[39;00m \u001b[39min\u001b[39;00m mode:\n\u001b[0;32m   1734\u001b[0m         mode \u001b[39m+\u001b[39m\u001b[39m=\u001b[39m \u001b[39m\"\u001b[39m\u001b[39mb\u001b[39m\u001b[39m\"\u001b[39m\n\u001b[1;32m-> 1735\u001b[0m \u001b[39mself\u001b[39m\u001b[39m.\u001b[39mhandles \u001b[39m=\u001b[39m get_handle(\n\u001b[0;32m   1736\u001b[0m     f,\n\u001b[0;32m   1737\u001b[0m     mode,\n\u001b[0;32m   1738\u001b[0m     encoding\u001b[39m=\u001b[39;49m\u001b[39mself\u001b[39;49m\u001b[39m.\u001b[39;49moptions\u001b[39m.\u001b[39;49mget(\u001b[39m\"\u001b[39;49m\u001b[39mencoding\u001b[39;49m\u001b[39m\"\u001b[39;49m, \u001b[39mNone\u001b[39;49;00m),\n\u001b[0;32m   1739\u001b[0m     compression\u001b[39m=\u001b[39;49m\u001b[39mself\u001b[39;49m\u001b[39m.\u001b[39;49moptions\u001b[39m.\u001b[39;49mget(\u001b[39m\"\u001b[39;49m\u001b[39mcompression\u001b[39;49m\u001b[39m\"\u001b[39;49m, \u001b[39mNone\u001b[39;49;00m),\n\u001b[0;32m   1740\u001b[0m     memory_map\u001b[39m=\u001b[39;49m\u001b[39mself\u001b[39;49m\u001b[39m.\u001b[39;49moptions\u001b[39m.\u001b[39;49mget(\u001b[39m\"\u001b[39;49m\u001b[39mmemory_map\u001b[39;49m\u001b[39m\"\u001b[39;49m, \u001b[39mFalse\u001b[39;49;00m),\n\u001b[0;32m   1741\u001b[0m     is_text\u001b[39m=\u001b[39;49mis_text,\n\u001b[0;32m   1742\u001b[0m     errors\u001b[39m=\u001b[39;49m\u001b[39mself\u001b[39;49m\u001b[39m.\u001b[39;49moptions\u001b[39m.\u001b[39;49mget(\u001b[39m\"\u001b[39;49m\u001b[39mencoding_errors\u001b[39;49m\u001b[39m\"\u001b[39;49m, \u001b[39m\"\u001b[39;49m\u001b[39mstrict\u001b[39;49m\u001b[39m\"\u001b[39;49m),\n\u001b[0;32m   1743\u001b[0m     storage_options\u001b[39m=\u001b[39;49m\u001b[39mself\u001b[39;49m\u001b[39m.\u001b[39;49moptions\u001b[39m.\u001b[39;49mget(\u001b[39m\"\u001b[39;49m\u001b[39mstorage_options\u001b[39;49m\u001b[39m\"\u001b[39;49m, \u001b[39mNone\u001b[39;49;00m),\n\u001b[0;32m   1744\u001b[0m )\n\u001b[0;32m   1745\u001b[0m \u001b[39massert\u001b[39;00m \u001b[39mself\u001b[39m\u001b[39m.\u001b[39mhandles \u001b[39mis\u001b[39;00m \u001b[39mnot\u001b[39;00m \u001b[39mNone\u001b[39;00m\n\u001b[0;32m   1746\u001b[0m f \u001b[39m=\u001b[39m \u001b[39mself\u001b[39m\u001b[39m.\u001b[39mhandles\u001b[39m.\u001b[39mhandle\n",
      "File \u001b[1;32mc:\\Users\\User\\anaconda3\\envs\\MovieRec\\lib\\site-packages\\pandas\\io\\common.py:856\u001b[0m, in \u001b[0;36mget_handle\u001b[1;34m(path_or_buf, mode, encoding, compression, memory_map, is_text, errors, storage_options)\u001b[0m\n\u001b[0;32m    851\u001b[0m \u001b[39melif\u001b[39;00m \u001b[39misinstance\u001b[39m(handle, \u001b[39mstr\u001b[39m):\n\u001b[0;32m    852\u001b[0m     \u001b[39m# Check whether the filename is to be opened in binary mode.\u001b[39;00m\n\u001b[0;32m    853\u001b[0m     \u001b[39m# Binary mode does not support 'encoding' and 'newline'.\u001b[39;00m\n\u001b[0;32m    854\u001b[0m     \u001b[39mif\u001b[39;00m ioargs\u001b[39m.\u001b[39mencoding \u001b[39mand\u001b[39;00m \u001b[39m\"\u001b[39m\u001b[39mb\u001b[39m\u001b[39m\"\u001b[39m \u001b[39mnot\u001b[39;00m \u001b[39min\u001b[39;00m ioargs\u001b[39m.\u001b[39mmode:\n\u001b[0;32m    855\u001b[0m         \u001b[39m# Encoding\u001b[39;00m\n\u001b[1;32m--> 856\u001b[0m         handle \u001b[39m=\u001b[39m \u001b[39mopen\u001b[39;49m(\n\u001b[0;32m    857\u001b[0m             handle,\n\u001b[0;32m    858\u001b[0m             ioargs\u001b[39m.\u001b[39;49mmode,\n\u001b[0;32m    859\u001b[0m             encoding\u001b[39m=\u001b[39;49mioargs\u001b[39m.\u001b[39;49mencoding,\n\u001b[0;32m    860\u001b[0m             errors\u001b[39m=\u001b[39;49merrors,\n\u001b[0;32m    861\u001b[0m             newline\u001b[39m=\u001b[39;49m\u001b[39m\"\u001b[39;49m\u001b[39m\"\u001b[39;49m,\n\u001b[0;32m    862\u001b[0m         )\n\u001b[0;32m    863\u001b[0m     \u001b[39melse\u001b[39;00m:\n\u001b[0;32m    864\u001b[0m         \u001b[39m# Binary mode\u001b[39;00m\n\u001b[0;32m    865\u001b[0m         handle \u001b[39m=\u001b[39m \u001b[39mopen\u001b[39m(handle, ioargs\u001b[39m.\u001b[39mmode)\n",
      "\u001b[1;31mFileNotFoundError\u001b[0m: [Errno 2] No such file or directory: '..\\\\datamovies_metadata.csv'"
     ]
    }
   ],
   "source": [
    "path = os.path.join(\"..\", \"data\")\n",
    "\n",
    "df_meta = pd.read_csv(path + 'movies_metadata.csv', low_memory=False, encoding='UTF-8')\n",
    "\n",
    "# display the first five rows of the DataFrame\n",
    "df_meta.head()"
   ]
  },
  {
   "cell_type": "code",
   "execution_count": null,
   "id": "8348eb22",
   "metadata": {},
   "outputs": [],
   "source": [
    "# some records have invalid ids, which is why we remove them\n",
    "df_meta = df_meta.drop([19730, 29503, 35587])\n",
    "\n",
    "# convert the id to type int and set id as index\n",
    "df_meta = df_meta.set_index(df_meta['id'].str.strip().replace(',','').astype(int))\n",
    "pd.set_option('display.max_colwidth', 20)\n",
    "df_meta.head(2)"
   ]
  },
  {
   "cell_type": "code",
   "execution_count": null,
   "id": "00fa4d4c",
   "metadata": {},
   "outputs": [],
   "source": [
    "# load the movie credits\n",
    "df_credits = pd.read_csv(path + 'credits.csv', encoding='UTF-8')\n",
    "df_credits = df_credits.set_index('id')\n",
    "\n",
    "# load the movie keywords\n",
    "df_keywords=pd.read_csv(path + 'keywords.csv', low_memory=False, encoding='UTF-8') \n",
    "df_keywords = df_keywords.set_index('id')\n",
    "\n",
    "# merge everything into a single dataframe \n",
    "df_k_c = df_keywords.merge(df_credits, left_index=True, right_on='id')\n",
    "df = df_k_c.merge(df_meta[['release_date','genres','overview','title']], left_index=True, right_on='id')\n",
    "df.head(3)"
   ]
  },
  {
   "cell_type": "code",
   "execution_count": null,
   "id": "1ff7f898",
   "metadata": {},
   "outputs": [],
   "source": [
    "# create an empty DataFrame\n",
    "df_movies = pd.DataFrame()\n",
    "\n",
    "# extract the keywords\n",
    "df_movies['keywords'] = df['keywords'].apply(lambda x: [i['name'] for i in eval(x)])\n",
    "df_movies['keywords'] = df_movies['keywords'].apply(lambda x: ' '.join([i.replace(\" \", \"\") for i in x]))\n",
    "\n",
    "# extract the overview\n",
    "df_movies['overview'] = df['overview'].fillna('')\n",
    "\n",
    "# extract the release year \n",
    "df_movies['release_date'] = pd.to_datetime(df['release_date'], errors='coerce').apply(lambda x: str(x).split('-')[0] if x != np.nan else np.nan)\n",
    "\n",
    "# extract the actors\n",
    "df_movies['cast'] = df['cast'].apply(lambda x: [i['name'] for i in eval(x)])\n",
    "df_movies['cast'] = df_movies['cast'].apply(lambda x: ' '.join([i.replace(\" \", \"\") for i in x]))\n",
    "\n",
    "# extract genres\n",
    "df_movies['genres'] = df['genres'].apply(lambda x: [i['name'] for i in eval(x)])\n",
    "df_movies['genres'] = df_movies['genres'].apply(lambda x: ' '.join([i.replace(\" \", \"\") for i in x]))\n",
    "\n",
    "# add the title\n",
    "df_movies['title'] = df['title']\n",
    "\n",
    "# merge fields into a tag field\n",
    "df_movies['tags'] = df_movies['keywords'] + df_movies['cast']+' '+df_movies['genres']+' '+df_movies['release_date']\n",
    "\n",
    "# drop records with empty tags and dublicates\n",
    "df_movies.drop(df_movies[df_movies['tags']==''].index, inplace=True)\n",
    "df_movies.drop_duplicates(inplace=True)\n",
    "\n",
    "# add a fresh index to the dataframe, which we will later use when refering to items in a vector matrix\n",
    "df_movies['new_id'] = range(0, len(df_movies))\n",
    "\n",
    "# Reduce the data to relevant columns\n",
    "df_movies = df_movies[['new_id', 'title', 'tags']]\n",
    "\n",
    "# display the data\n",
    "pd.set_option('display.max_colwidth', 500)\n",
    "pd.set_option('display.expand_frame_repr', False)\n",
    "print(df_movies.shape)\n",
    "df_movies.head(5)"
   ]
  },
  {
   "cell_type": "code",
   "execution_count": null,
   "id": "9e9052fd",
   "metadata": {},
   "outputs": [],
   "source": [
    "# add the tag length to the movies df\n",
    "df_movies['tag_len'] = df_movies['tags'].apply(lambda x: len(x))\n",
    "\n",
    "# illustrate the tag text length\n",
    "sns.displot(data=df_movies.dropna(), bins=list(range(0, 2000, 25)), height=5, x='tag_len', aspect=3, kde=True)\n",
    "plt.title('Distribution of tag text length')\n",
    "plt.xlim([0, 2500])"
   ]
  },
  {
   "cell_type": "code",
   "execution_count": null,
   "id": "3a3f62a9",
   "metadata": {},
   "outputs": [],
   "source": [
    "# set a custom stop list from nltk\n",
    "stop = list(stopwords.words('english'))\n",
    "\n",
    "# create the tfid vectorizer, alternatively you can also use countVectorizer\n",
    "tfidf =  TfidfVectorizer(max_features=5000, analyzer = 'word', stop_words=stop)\n",
    "vectorized_data = tfidf.fit_transform(df_movies['tags'])\n",
    "count_matrix = pd.DataFrame(vectorized_data.toarray(), index=df_movies['tags'].index.tolist())\n",
    "print(count_matrix)\n",
    "\n"
   ]
  },
  {
   "cell_type": "code",
   "execution_count": null,
   "id": "b58dcb51",
   "metadata": {},
   "outputs": [],
   "source": [
    "# print feature names\n",
    "print(tfidf.get_feature_names_out()[940:990])"
   ]
  },
  {
   "cell_type": "code",
   "execution_count": null,
   "id": "666a4f73",
   "metadata": {},
   "outputs": [],
   "source": [
    "# reduce dimensionality for improved performance\n",
    "svd = TruncatedSVD(n_components=3000)\n",
    "reduced_data = svd.fit_transform(count_matrix)"
   ]
  },
  {
   "cell_type": "code",
   "execution_count": null,
   "id": "fa3b5c18",
   "metadata": {},
   "outputs": [],
   "source": [
    "# compute the cosine similarity matrix\n",
    "similarity = cosine_similarity(reduced_data)\n",
    "similarity"
   ]
  },
  {
   "cell_type": "code",
   "execution_count": null,
   "id": "bb198eef",
   "metadata": {},
   "outputs": [],
   "source": [
    "# create a function that takes in movie title as input and returns a list of the most similar movies\n",
    "def get_recommendations(title, n, cosine_sim=similarity):\n",
    "    \n",
    "    # get the index of the movie that matches the title\n",
    "    movie_index = df_movies[df_movies.title==title].new_id.values[0]\n",
    "    print(movie_index, title)\n",
    "    \n",
    "    # get the pairwsie similarity scores of all movies with that movie and sort the movies based on the similarity scores\n",
    "    sim_scores_all = sorted(list(enumerate(cosine_sim[movie_index])), key=lambda x: x[1], reverse=True)\n",
    "    \n",
    "    # checks if recommendations are limited\n",
    "    if n > 0:\n",
    "        sim_scores_all = sim_scores_all[1:n+1]\n",
    "        \n",
    "    # get the movie indices of the top similar movies\n",
    "    movie_indices = [i[0] for i in sim_scores_all]\n",
    "    scores = [i[1] for i in sim_scores_all]\n",
    "    \n",
    "    # return the top n most similar movies from the movies df\n",
    "    top_titles_df = pd.DataFrame(df_movies.iloc[movie_indices]['title'])\n",
    "    top_titles_df['sim_scores'] = scores\n",
    "    top_titles_df['ranking'] = range(1, len(top_titles_df) + 1)\n",
    "    \n",
    "    return top_titles_df, sim_scores_all\n",
    "\n",
    "# generate a list of recommendations for a specific movie title\n",
    "movie_name = 'The Matrix'\n",
    "number_of_recommendations = 15\n",
    "top_titles_df, _ = get_recommendations(movie_name, number_of_recommendations)\n",
    " \n",
    "# visualize the results\n",
    "def show_results(movie_name, top_titles_df):\n",
    "    fix, ax = plt.subplots(figsize=(11, 5))\n",
    "    sns.barplot(data=top_titles_df, y='title', x= 'sim_scores', color='blue')\n",
    "    plt.xlim((0,1))\n",
    "    plt.title(f'Top 15 recommendations for {movie_name}')\n",
    "    pct_values = ['{:.2}'.format(elm) for elm in list(top_titles_df['sim_scores'])]\n",
    "    ax.bar_label(container=ax.containers[0], labels=pct_values, size=12)\n",
    "\n",
    "show_results(movie_name, top_titles_df)"
   ]
  },
  {
   "cell_type": "code",
   "execution_count": null,
   "id": "12215c8d",
   "metadata": {},
   "outputs": [],
   "source": [
    "# list of movies a user has seen\n",
    "movie_list = ['The Lion King', 'Seven', 'RoboCop 3', 'Blade Runner', 'Quantum of Solace', 'Casino Royale', 'Skyfall']\n",
    "\n",
    "# create a copy of the movie dataframe and add a column in which we aggregated the scores\n",
    "user_scores = pd.DataFrame(df_movies['title'])\n",
    "user_scores['sim_scores'] = 0.0\n",
    "\n",
    "# top number of scores to be considered for each movie\n",
    "number_of_recommendations = 10000\n",
    "for movie_name in movie_list:\n",
    "    top_titles_df, _ = get_recommendations(movie_name, number_of_recommendations)\n",
    "    # aggregate the scores\n",
    "    user_scores = pd.concat([user_scores, top_titles_df[['title', 'sim_scores']]]).groupby(['title'], as_index=False).sum({'sim_scores'})\n",
    "# sort and print the aggregated scores\n",
    "user_scores.sort_values(by='sim_scores', ascending=False)[1:20]"
   ]
  }
 ],
 "metadata": {
  "kernelspec": {
   "display_name": "MovieRec",
   "language": "python",
   "name": "python3"
  },
  "language_info": {
   "codemirror_mode": {
    "name": "ipython",
    "version": 3
   },
   "file_extension": ".py",
   "mimetype": "text/x-python",
   "name": "python",
   "nbconvert_exporter": "python",
   "pygments_lexer": "ipython3",
   "version": "3.9.16"
  },
  "vscode": {
   "interpreter": {
    "hash": "cd5db434131c6ec00505b11c2200a726edfa22a3a581784a9f28d2c89c59e6c1"
   }
  }
 },
 "nbformat": 4,
 "nbformat_minor": 5
}
