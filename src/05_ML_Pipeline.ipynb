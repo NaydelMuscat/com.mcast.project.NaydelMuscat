{
 "cells": [
  {
   "attachments": {},
   "cell_type": "markdown",
   "metadata": {},
   "source": [
    "# Machine Learning Pipeline applied to recommender system using [MovieLens](https://movielens.org)"
   ]
  },
  {
   "cell_type": "code",
   "execution_count": null,
   "metadata": {},
   "outputs": [],
   "source": [
    "# TODO: add imports"
   ]
  },
  {
   "attachments": {},
   "cell_type": "markdown",
   "metadata": {},
   "source": [
    "# Data Acquisition"
   ]
  },
  {
   "cell_type": "code",
   "execution_count": null,
   "metadata": {},
   "outputs": [],
   "source": [
    "# TODO: download the smallest movie lens dataset and load. Using relative paths and os.path.join\n",
    "# TODO: After loading display the first few lines (head) and the variable structure (info)"
   ]
  },
  {
   "attachments": {},
   "cell_type": "markdown",
   "metadata": {},
   "source": [
    "# Data exploration"
   ]
  },
  {
   "cell_type": "code",
   "execution_count": null,
   "metadata": {},
   "outputs": [],
   "source": [
    "# TODO: For each of the below tasks create a new code cell and research how to do it.\n",
    "# TODO: Display statistics of each variable (describe)\n",
    "# TODO: Display total number of nulls per variable"
   ]
  },
  {
   "attachments": {},
   "cell_type": "markdown",
   "metadata": {},
   "source": [
    "# Data Visualisation"
   ]
  },
  {
   "cell_type": "code",
   "execution_count": null,
   "metadata": {},
   "outputs": [],
   "source": [
    "# TODO: Display frequencies per variable (matplotlib histograms)\n",
    "# TODO: Display boxplots per variable\n",
    "# TODO: Display the corrleation values and plot for each variable"
   ]
  },
  {
   "attachments": {},
   "cell_type": "markdown",
   "metadata": {},
   "source": [
    "# Data Cleaning"
   ]
  },
  {
   "cell_type": "code",
   "execution_count": null,
   "metadata": {},
   "outputs": [],
   "source": [
    "# TODO: remove any nulls\n",
    "# TODO: Identify any problematic values (Title of movies, some movies have same name and release year, you need to research this situation and address accordingly)"
   ]
  },
  {
   "attachments": {},
   "cell_type": "markdown",
   "metadata": {},
   "source": [
    "# Data Transformation"
   ]
  },
  {
   "cell_type": "code",
   "execution_count": null,
   "metadata": {},
   "outputs": [],
   "source": [
    "# TODO: At a later stage, not first iteration of this attempt, you might want to consider researching what PCA is.\n",
    "# TODO: Consider manipulating some variables, such as the review date and calculate the number of years from the movie release year to the review date"
   ]
  },
  {
   "attachments": {},
   "cell_type": "markdown",
   "metadata": {},
   "source": [
    "# Data Splitting"
   ]
  },
  {
   "cell_type": "code",
   "execution_count": null,
   "metadata": {},
   "outputs": [],
   "source": [
    "# TODO: Split the data in different ratios (70:30, 80:20, 90:10) then run the experiments. This will allow you to answer a research question: What impact does the train to test split ratio have on the model.\n",
    "# TODO: At a later point in time (even third year) you might want to consider different cross validation techniques (https://neptune.ai/blog/cross-validation-in-machine-learning-how-to-do-it-right)"
   ]
  },
  {
   "attachments": {},
   "cell_type": "markdown",
   "metadata": {},
   "source": [
    "# Model training"
   ]
  },
  {
   "cell_type": "code",
   "execution_count": null,
   "metadata": {},
   "outputs": [],
   "source": [
    "# TODO: create a model that recommends a movie given certain parameters. The most naive would be the general movie average rating, then you can add other factors, such as genre, release year, etc etc.\n",
    "# TODO: at a later point in time, introduce a different algorithm.\n",
    "# TODO: at an even later point in time, consider an advanced technique. https://medium.com/stanford-cs224w/graph-neural-network-based-movie-recommender-system-5876b9686df3"
   ]
  },
  {
   "attachments": {},
   "cell_type": "markdown",
   "metadata": {},
   "source": [
    "# Model evaluation"
   ]
  },
  {
   "cell_type": "code",
   "execution_count": null,
   "metadata": {},
   "outputs": [],
   "source": [
    "# TODO: evaluate each model and generate metric results. Answer the research question: which model performs better in a specific situation?"
   ]
  },
  {
   "attachments": {},
   "cell_type": "markdown",
   "metadata": {},
   "source": [
    "# Post-Processing\n",
    "\n",
    "This is an advanced step and does not necessarily need to be done in 2nd year, yet it is good that you know that it exists. You can, but are not obliged to do so, consider for 3rd year."
   ]
  },
  {
   "cell_type": "code",
   "execution_count": null,
   "metadata": {},
   "outputs": [],
   "source": [
    "# TODO: Assess the incorrect recommendations and investigate to answer the research question: Which recommendations were bad and why did they occur?"
   ]
  }
 ],
 "metadata": {
  "language_info": {
   "name": "python"
  },
  "orig_nbformat": 4
 },
 "nbformat": 4,
 "nbformat_minor": 2
}
